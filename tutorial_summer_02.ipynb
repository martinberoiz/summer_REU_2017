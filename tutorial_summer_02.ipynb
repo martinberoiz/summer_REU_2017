{
 "cells": [
  {
   "cell_type": "code",
   "execution_count": null,
   "metadata": {
    "collapsed": true
   },
   "outputs": [],
   "source": [
    "# Recap: We can hold different data in variables\n",
    "\n",
    "x = 33\n",
    "x = \"sdfasf\"\n",
    "x = [1, 2, 3, 4]\n",
    "\n",
    "# Execute these cells by pressing Enter while holdig Shift (Shift+Enter) on each cell\n",
    "# You can modify the cell and see what happens"
   ]
  },
  {
   "cell_type": "markdown",
   "metadata": {},
   "source": [
    "# Astropy\n",
    "\n",
    "astropy is a Python package with all the functionality to work with astronomy images\n",
    "More here: http://www.astropy.org\n",
    "They also have tutorials here: http://www.astropy.org/astropy-tutorials/"
   ]
  },
  {
   "cell_type": "code",
   "execution_count": null,
   "metadata": {
    "collapsed": true
   },
   "outputs": [],
   "source": [
    "import astropy"
   ]
  },
  {
   "cell_type": "code",
   "execution_count": null,
   "metadata": {
    "collapsed": true
   },
   "outputs": [],
   "source": [
    "# The fits module in astropy.io deals with FITS files.\n",
    "# Opening, getting the header, data, save images to files, etc\n",
    "\n",
    "from astropy.io import fits"
   ]
  },
  {
   "cell_type": "code",
   "execution_count": null,
   "metadata": {
    "collapsed": false
   },
   "outputs": [],
   "source": [
    "# Python can download a FITS file for you and download it on whichever folder\n",
    "# you're working in right now.\n",
    "# The next lines will download the file from the web address and make a local copy named\n",
    "# samplefile.fits on your computer.\n",
    "import urllib\n",
    "filename = \"samplefile.fits\"\n",
    "urllib.urlretrieve(\"https://fits.gsfc.nasa.gov/samples/WFPC2u5780205r_c0fx.fits\",\n",
    "                   filename=filename)"
   ]
  },
  {
   "cell_type": "code",
   "execution_count": null,
   "metadata": {
    "collapsed": false
   },
   "outputs": [],
   "source": [
    "# You can get the header of the FITS file and print it to view its contents\n",
    "header = fits.getheader(filename)  # By default, this will get the first header it founds\n",
    "\n",
    "# These are all the keys in the rather long header\n",
    "print(header.keys())"
   ]
  },
  {
   "cell_type": "code",
   "execution_count": null,
   "metadata": {
    "collapsed": false
   },
   "outputs": [],
   "source": [
    "# Specific elements of the header can be accessed through its key\n",
    "# This first image, has 3 axes\n",
    "header['NAXIS']"
   ]
  },
  {
   "cell_type": "code",
   "execution_count": null,
   "metadata": {
    "collapsed": true
   },
   "outputs": [],
   "source": [
    "# Or load the entire file to explore\n",
    "hdu_list = fits.open(filename)"
   ]
  },
  {
   "cell_type": "code",
   "execution_count": null,
   "metadata": {
    "collapsed": false
   },
   "outputs": [],
   "source": [
    "# From this, you can see how many HDU's (units) the file has\n",
    "# Notice that the first on the list is an image, and the second one a table\n",
    "hdu_list"
   ]
  },
  {
   "cell_type": "code",
   "execution_count": null,
   "metadata": {
    "collapsed": false
   },
   "outputs": [],
   "source": [
    "imghdu = hdu_list[0]\n",
    "tblhdu = hdu_list[1]"
   ]
  },
  {
   "cell_type": "code",
   "execution_count": null,
   "metadata": {
    "collapsed": false
   },
   "outputs": [],
   "source": [
    "# To access the raw numbers, use the .data method\n",
    "image = imghdu.data\n",
    "image"
   ]
  },
  {
   "cell_type": "code",
   "execution_count": null,
   "metadata": {
    "collapsed": false
   },
   "outputs": [],
   "source": [
    "# the variable image is actually a Numpy array\n",
    "type(image)"
   ]
  },
  {
   "cell_type": "code",
   "execution_count": null,
   "metadata": {
    "collapsed": false
   },
   "outputs": [],
   "source": [
    "# Clean up:\n",
    "# This will remove the file we downloaded from the web\n",
    "import os\n",
    "os.remove(filename)"
   ]
  },
  {
   "cell_type": "code",
   "execution_count": null,
   "metadata": {
    "collapsed": true
   },
   "outputs": [],
   "source": []
  }
 ],
 "metadata": {
  "kernelspec": {
   "display_name": "Python 2",
   "language": "python",
   "name": "python2"
  },
  "language_info": {
   "codemirror_mode": {
    "name": "ipython",
    "version": 2
   },
   "file_extension": ".py",
   "mimetype": "text/x-python",
   "name": "python",
   "nbconvert_exporter": "python",
   "pygments_lexer": "ipython2",
   "version": "2.7.11"
  }
 },
 "nbformat": 4,
 "nbformat_minor": 0
}
